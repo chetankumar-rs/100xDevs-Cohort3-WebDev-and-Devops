{
  "nbformat": 4,
  "nbformat_minor": 0,
  "metadata": {
    "colab": {
      "provenance": [],
      "gpuType": "T4",
      "authorship_tag": "ABX9TyMTvuAcD5t8z8CVLEmRjMe7",
      "include_colab_link": true
    },
    "kernelspec": {
      "name": "python3",
      "display_name": "Python 3"
    },
    "language_info": {
      "name": "python"
    },
    "accelerator": "GPU"
  },
  "cells": [
    {
      "cell_type": "markdown",
      "metadata": {
        "id": "view-in-github",
        "colab_type": "text"
      },
      "source": [
        "<a href=\"https://colab.research.google.com/github/chetankumar-rs/100xDevs-Cohort3-WebDev-and-Devops/blob/main/mini-project-model-trained.ipynb\" target=\"_parent\"><img src=\"https://colab.research.google.com/assets/colab-badge.svg\" alt=\"Open In Colab\"/></a>"
      ]
    },
    {
      "cell_type": "code",
      "execution_count": 2,
      "metadata": {
        "colab": {
          "base_uri": "https://localhost:8080/"
        },
        "id": "JJrAfwMYa7H-",
        "outputId": "cfdf54a0-9408-455d-b3ad-a48c9e107070"
      },
      "outputs": [
        {
          "output_type": "stream",
          "name": "stdout",
          "text": [
            "Using device: cuda\n"
          ]
        }
      ],
      "source": [
        "# --- Standard Data Science Libraries ---\n",
        "import pandas as pd\n",
        "import numpy as np\n",
        "import matplotlib.pyplot as plt\n",
        "import seaborn as sns\n",
        "from sklearn.model_selection import train_test_split\n",
        "from sklearn.metrics import accuracy_score, f1_score, precision_score, recall_score, confusion_matrix\n",
        "import joblib  # For saving the scaler\n",
        "\n",
        "# --- NEW: PyTorch Libraries ---\n",
        "import torch\n",
        "import torch.nn as nn\n",
        "import torch.optim as optim\n",
        "from torch.utils.data import DataLoader, TensorDataset\n",
        "import torch.nn.functional as F\n",
        "\n",
        "# --- NEW: Scaler (CRITICAL for Neural Networks) ---\n",
        "# Your original code imported but didn't use a scaler.\n",
        "# For PyTorch, scaling is mandatory for good performance.\n",
        "from sklearn.preprocessing import MinMaxScaler\n",
        "\n",
        "# --- Setup for Google Colab ---\n",
        "# Check if GPU is available and set the device\n",
        "device = torch.device(\"cuda\" if torch.cuda.is_available() else \"cpu\")\n",
        "print(f\"Using device: {device}\")\n",
        "\n",
        "# --- Your Confusion Matrix Function (Copied from your notebook) ---\n",
        "def plot_confusion_matrix(y_true, y_pred, classes, title):\n",
        "    cm = confusion_matrix(y_true, y_pred)\n",
        "    plt.figure(figsize=(8, 6))\n",
        "    sns.heatmap(cm, annot=True, fmt='d', cmap='Blues', xticklabels=classes, yticklabels=classes)\n",
        "    plt.title(title)\n",
        "    plt.xlabel('Predicted')\n",
        "    plt.ylabel('True')\n",
        "    plt.show()"
      ]
    },
    {
      "cell_type": "code",
      "source": [
        "# --- 1. Load Data ---\n",
        "# This assumes you have uploaded your \"DDos.csv\" to a folder named \"data\" in Colab\n",
        "# or you can just upload \"DDos.csv\" and change the path to \"DDos.csv\"\n",
        "try:\n",
        "    df = pd.read_csv(\"/content/Friday-WorkingHours-Afternoon-DDos.pcap_ISCX.csv\")\n",
        "    print(\"File loaded successfully.\")\n",
        "except FileNotFoundError:\n",
        "    print(\"File 'data/DDos.csv' not found. Please upload it to your Colab environment.\")\n",
        "    # In a real script, you might want to stop here\n",
        "    # For now, we'll let it error out if the file isn't present in the next step.\n",
        "\n",
        "# --- 2. Clean Column Names (from your script) ---\n",
        "df.columns = df.columns.str.strip()\n",
        "print(\"Column names stripped.\")\n",
        "\n",
        "# --- 3. Handle Infinity and NaN values (from your script) ---\n",
        "# Treat inf as NaN\n",
        "pd.set_option('use_inf_as_na', True)\n",
        "# Drop all rows with any NaN or inf values\n",
        "df = df.dropna()\n",
        "print(f\"Data shape after dropping NaNs/Infs: {df.shape}\")\n",
        "\n",
        "# --- 4. Encode Labels (from your script) ---\n",
        "df['Label'] = df['Label'].map({'BENIGN': 0, 'DDoS': 1})\n",
        "print(\"Labels encoded.\")\n",
        "\n",
        "# --- 5. Separate Features (X) and Labels (y) ---\n",
        "X = df.drop('Label', axis=1)\n",
        "y = df['Label']\n",
        "\n",
        "# Save feature names for later (good practice)\n",
        "FEATURE_NAMES = X.columns.tolist()\n",
        "N_FEATURES = len(FEATURE_NAMES)\n",
        "print(f\"Data separated: {N_FEATURES} features and 1 label.\")"
      ],
      "metadata": {
        "colab": {
          "base_uri": "https://localhost:8080/"
        },
        "id": "wQiUhQK0b8x_",
        "outputId": "95dbfbcb-0cb6-4306-8302-5fde4878819e"
      },
      "execution_count": 3,
      "outputs": [
        {
          "output_type": "stream",
          "name": "stdout",
          "text": [
            "File loaded successfully.\n",
            "Column names stripped.\n",
            "Data shape after dropping NaNs/Infs: (225711, 79)\n",
            "Labels encoded.\n",
            "Data separated: 78 features and 1 label.\n"
          ]
        },
        {
          "output_type": "stream",
          "name": "stderr",
          "text": [
            "/tmp/ipython-input-3520660705.py:18: FutureWarning: use_inf_as_na option is deprecated and will be removed in a future version. Convert inf values to NaN before operating instead.\n",
            "  pd.set_option('use_inf_as_na', True)\n"
          ]
        }
      ]
    },
    {
      "cell_type": "code",
      "source": [
        "# --- 1. Split the data (same as your script) ---\n",
        "X_train, X_test, y_train, y_test = train_test_split(X, y, test_size=0.30, random_state=42)\n",
        "\n",
        "print(f\"Train dataset size: {X_train.shape}\")\n",
        "print(f\"Test dataset size:  {X_test.shape}\")\n",
        "\n",
        "# --- 2. Scale the Data (CRITICAL NEW STEP) ---\n",
        "# Neural networks (like CNN-LSTM) require scaled features to converge properly.\n",
        "# Your original code showed convergence warnings for LR and MLP because of this.\n",
        "scaler = MinMaxScaler()\n",
        "\n",
        "# Fit the scaler ONLY on the training data\n",
        "X_train_scaled = scaler.fit_transform(X_train)\n",
        "\n",
        "# Transform the test data using the *same* scaler\n",
        "X_test_scaled = scaler.transform(X_test)\n",
        "\n",
        "print(\"Data scaled using MinMaxScaler.\")\n",
        "\n",
        "# --- 3. Save the Scaler ---\n",
        "# You will need this file to process data for your Student model.\n",
        "scaler_filename = \"scaler.pkl\"\n",
        "joblib.dump(scaler, scaler_filename)\n",
        "print(f\"Scaler saved to {scaler_filename}\")"
      ],
      "metadata": {
        "colab": {
          "base_uri": "https://localhost:8080/"
        },
        "id": "KRLuZmo8b9Sq",
        "outputId": "94b5b3a6-50d4-4def-cf35-78b6ab406b57"
      },
      "execution_count": 4,
      "outputs": [
        {
          "output_type": "stream",
          "name": "stdout",
          "text": [
            "Train dataset size: (157997, 78)\n",
            "Test dataset size:  (67714, 78)\n",
            "Data scaled using MinMaxScaler.\n",
            "Scaler saved to scaler.pkl\n"
          ]
        }
      ]
    },
    {
      "cell_type": "code",
      "source": [
        "# --- 1. Convert to PyTorch Tensors ---\n",
        "# We need to use .float() for model features and .float().view(-1, 1) for labels\n",
        "X_train_tensor = torch.tensor(X_train_scaled, dtype=torch.float32)\n",
        "y_train_tensor = torch.tensor(y_train.values, dtype=torch.float32).view(-1, 1)\n",
        "X_test_tensor = torch.tensor(X_test_scaled, dtype=torch.float32)\n",
        "y_test_tensor = torch.tensor(y_test.values, dtype=torch.float32).view(-1, 1)\n",
        "\n",
        "print(\"Data converted to PyTorch Tensors.\")\n",
        "\n",
        "# --- 2. Create TensorDatasets ---\n",
        "train_dataset = TensorDataset(X_train_tensor, y_train_tensor)\n",
        "test_dataset = TensorDataset(X_test_tensor, y_test_tensor)\n",
        "\n",
        "# --- 3. Create DataLoaders ---\n",
        "BATCH_SIZE = 64\n",
        "train_loader = DataLoader(dataset=train_dataset, batch_size=BATCH_SIZE, shuffle=True)\n",
        "test_loader = DataLoader(dataset=test_dataset, batch_size=BATCH_SIZE, shuffle=False)\n",
        "\n",
        "print(f\"DataLoaders created with batch size {BATCH_SIZE}.\")"
      ],
      "metadata": {
        "colab": {
          "base_uri": "https://localhost:8080/"
        },
        "id": "zl5wpnI4dVrn",
        "outputId": "c5e93bcf-88a3-4aec-86e5-19b28da745fa"
      },
      "execution_count": 5,
      "outputs": [
        {
          "output_type": "stream",
          "name": "stdout",
          "text": [
            "Data converted to PyTorch Tensors.\n",
            "DataLoaders created with batch size 64.\n"
          ]
        }
      ]
    },
    {
      "cell_type": "code",
      "source": [
        "class TeacherModel(nn.Module):\n",
        "    def __init__(self, n_features):\n",
        "        super(TeacherModel, self).__init__()\n",
        "\n",
        "        # --- 1D-CNN Layers ---\n",
        "        # Input shape will be (batch_size, 1, n_features)\n",
        "        self.conv1 = nn.Conv1d(in_channels=1, out_channels=64, kernel_size=3, padding=1)\n",
        "        self.relu = nn.ReLU()\n",
        "        self.pool1 = nn.MaxPool1d(kernel_size=2)\n",
        "\n",
        "        # --- LSTM Layer ---\n",
        "        # The input to LSTM will have 64 features (from conv1 out_channels)\n",
        "        self.lstm = nn.LSTM(\n",
        "            input_size=64,\n",
        "            hidden_size=50,\n",
        "            num_layers=1,\n",
        "            batch_first=True  # This means input shape is (batch_size, seq_len, features)\n",
        "        )\n",
        "\n",
        "        # --- Fully Connected Layer ---\n",
        "        self.fc = nn.Linear(50, 1) # 50 from LSTM hidden_size, 1 for binary output\n",
        "        self.sigmoid = nn.Sigmoid()\n",
        "\n",
        "    def forward(self, x):\n",
        "        # x starts as (batch_size, n_features) e.g., (64, 78)\n",
        "\n",
        "        # 1. Add a channel dimension for CNN\n",
        "        # Shape becomes (batch_size, 1, n_features) e.g., (64, 1, 78)\n",
        "        x = x.unsqueeze(1)\n",
        "\n",
        "        # 2. Pass through CNN layers\n",
        "        # Shape: (64, 1, 78) -> (64, 64, 78)\n",
        "        x = self.conv1(x)\n",
        "        x = self.relu(x)\n",
        "        # Shape: (64, 64, 78) -> (64, 64, 39) (features/2 due to pooling)\n",
        "        x = self.pool1(x)\n",
        "\n",
        "        # 3. Prepare for LSTM\n",
        "        # LSTM expects (batch_size, seq_len, n_features)\n",
        "        # Current shape is (batch_size, n_channels, seq_len_after_pool)\n",
        "        # We permute it: (64, 64, 39) -> (64, 39, 64)\n",
        "        x = x.permute(0, 2, 1)\n",
        "\n",
        "        # 4. Pass through LSTM\n",
        "        # We only care about the last hidden state\n",
        "        _, (hidden, _) = self.lstm(x)\n",
        "\n",
        "        # 5. Get the last hidden state and remove the 'num_layers' dimension\n",
        "        # Shape: (num_layers, batch_size, hidden_size) -> (batch_size, hidden_size)\n",
        "        x = hidden.squeeze(0)\n",
        "\n",
        "        # 6. Pass through final linear layer and sigmoid\n",
        "        # Shape: (batch_size, 50) -> (batch_size, 1)\n",
        "        x = self.fc(x)\n",
        "        x = self.sigmoid(x)\n",
        "\n",
        "        return x\n",
        "\n",
        "# Instantiate the model and move it to the GPU\n",
        "model = TeacherModel(n_features=N_FEATURES).to(device)\n",
        "print(model)"
      ],
      "metadata": {
        "colab": {
          "base_uri": "https://localhost:8080/"
        },
        "id": "StXPIqB3dj80",
        "outputId": "a292b003-5cc4-4be5-9c63-2a0f51a59348"
      },
      "execution_count": 6,
      "outputs": [
        {
          "output_type": "stream",
          "name": "stdout",
          "text": [
            "TeacherModel(\n",
            "  (conv1): Conv1d(1, 64, kernel_size=(3,), stride=(1,), padding=(1,))\n",
            "  (relu): ReLU()\n",
            "  (pool1): MaxPool1d(kernel_size=2, stride=2, padding=0, dilation=1, ceil_mode=False)\n",
            "  (lstm): LSTM(64, 50, batch_first=True)\n",
            "  (fc): Linear(in_features=50, out_features=1, bias=True)\n",
            "  (sigmoid): Sigmoid()\n",
            ")\n"
          ]
        }
      ]
    },
    {
      "cell_type": "code",
      "source": [
        "# --- Hyperparameters ---\n",
        "LEARNING_RATE = 0.001\n",
        "EPOCHS = 10  # Start with 10. You can increase this if loss is still improving.\n",
        "\n",
        "# --- Loss and Optimizer ---\n",
        "criterion = nn.BCELoss()  # Binary Cross Entropy Loss for binary classification\n",
        "optimizer = optim.Adam(model.parameters(), lr=LEARNING_RATE)\n",
        "\n",
        "print(\"Starting training...\")\n",
        "\n",
        "# --- Training Loop ---\n",
        "for epoch in range(EPOCHS):\n",
        "    model.train()  # Set model to training mode\n",
        "    total_train_loss = 0\n",
        "\n",
        "    for inputs, labels in train_loader:\n",
        "        # Move data to GPU\n",
        "        inputs, labels = inputs.to(device), labels.to(device)\n",
        "\n",
        "        # 1. Forward pass\n",
        "        outputs = model(inputs)\n",
        "\n",
        "        # 2. Calculate loss\n",
        "        loss = criterion(outputs, labels)\n",
        "\n",
        "        # 3. Backward pass and optimization\n",
        "        optimizer.zero_grad()  # Clear old gradients\n",
        "        loss.backward()        # Calculate new gradients\n",
        "        optimizer.step()       # Update model weights\n",
        "\n",
        "        total_train_loss += loss.item()\n",
        "\n",
        "    avg_train_loss = total_train_loss / len(train_loader)\n",
        "    print(f\"Epoch [{epoch+1}/{EPOCHS}], Train Loss: {avg_train_loss:.4f}\")\n",
        "\n",
        "print(\"Training finished.\")"
      ],
      "metadata": {
        "colab": {
          "base_uri": "https://localhost:8080/"
        },
        "id": "1o28KxsodmIW",
        "outputId": "ac1629a6-f001-4e5b-c9a4-7f325aa4af56"
      },
      "execution_count": 7,
      "outputs": [
        {
          "output_type": "stream",
          "name": "stdout",
          "text": [
            "Starting training...\n",
            "Epoch [1/10], Train Loss: 0.0848\n",
            "Epoch [2/10], Train Loss: 0.0262\n",
            "Epoch [3/10], Train Loss: 0.0248\n",
            "Epoch [4/10], Train Loss: 0.0201\n",
            "Epoch [5/10], Train Loss: 0.0215\n",
            "Epoch [6/10], Train Loss: 0.0181\n",
            "Epoch [7/10], Train Loss: 0.0172\n",
            "Epoch [8/10], Train Loss: 0.0168\n",
            "Epoch [9/10], Train Loss: 0.0155\n",
            "Epoch [10/10], Train Loss: 0.0152\n",
            "Training finished.\n"
          ]
        }
      ]
    },
    {
      "cell_type": "code",
      "source": [
        "# --- 6. Model Evaluation ---\n",
        "model.eval()  # Set model to evaluation mode\n",
        "all_preds = []\n",
        "all_labels = []\n",
        "\n",
        "# We use torch.no_grad() to speed up computation and save memory\n",
        "with torch.no_grad():\n",
        "    for inputs, labels in test_loader:\n",
        "        # Move data to the same device as the model\n",
        "        inputs, labels = inputs.to(device), labels.to(device)\n",
        "\n",
        "        # Get model predictions\n",
        "        outputs = model(inputs)\n",
        "\n",
        "        # Convert probabilities to binary predictions (0 or 1)\n",
        "        preds = (outputs > 0.5).float()\n",
        "\n",
        "        # Move predictions and labels back to CPU for sklearn\n",
        "        all_preds.extend(preds.cpu().numpy())\n",
        "        all_labels.extend(labels.cpu().numpy())\n",
        "\n",
        "# Calculate metrics (using sklearn, just like your original code)\n",
        "accuracy = accuracy_score(all_labels, all_preds)\n",
        "precision = precision_score(all_labels, all_preds)\n",
        "recall = recall_score(all_labels, all_preds)\n",
        "f1 = f1_score(all_labels, all_preds)\n",
        "\n",
        "print(\"\\n--- CNN-LSTM Teacher Model Evaluation Results ---\")\n",
        "print(f'Accuracy:  {accuracy:.4f}')\n",
        "print(f'Precision: {precision:.4f}')\n",
        "print(f'Recall:    {recall:.4f}')\n",
        "print(f'F1 Score:  {f1:.4f}')\n",
        "\n",
        "# Plot the confusion matrix (using your function)\n",
        "plot_confusion_matrix(all_labels, all_preds, ['Benign', 'DDoS'], 'CNN-LSTM Teacher Model Confusion Matrix')"
      ],
      "metadata": {
        "colab": {
          "base_uri": "https://localhost:8080/",
          "height": 668
        },
        "id": "738ShGQKdpPI",
        "outputId": "b11f919f-1cd3-4376-bbd8-d719345d58da"
      },
      "execution_count": 8,
      "outputs": [
        {
          "output_type": "stream",
          "name": "stdout",
          "text": [
            "\n",
            "--- CNN-LSTM Teacher Model Evaluation Results ---\n",
            "Accuracy:  0.9930\n",
            "Precision: 0.9965\n",
            "Recall:    0.9911\n",
            "F1 Score:  0.9938\n"
          ]
        },
        {
          "output_type": "display_data",
          "data": {
            "text/plain": [
              "<Figure size 800x600 with 2 Axes>"
            ],
            "image/png": "[encoded data removed]"
          },
          "metadata": {}
        }
      ]
    },
    {
      "cell_type": "code",
      "source": [
        "# --- 7. Model \"Downloading\" (Saving the Model) ---\n",
        "\n",
        "# Define a path to save the model\n",
        "MODEL_PATH = \"teacher_cnn_lstm.pth\"\n",
        "\n",
        "# Save the model's learned weights (its \"knowledge\")\n",
        "torch.save(model.state_dict(), MODEL_PATH)\n",
        "\n",
        "print(f\"\\n✅ Teacher model's weights saved to {MODEL_PATH}\")\n",
        "print(\"You can now see this file in the Colab file explorer on the left.\")\n",
        "print(\"\\nYou now have the two files you need for the next phase:\")\n",
        "print(f\"1. {MODEL_PATH} (The trained Teacher model)\")\n",
        "print(f\"2. scaler.pkl (The scaler used to process the data)\")"
      ],
      "metadata": {
        "colab": {
          "base_uri": "https://localhost:8080/"
        },
        "id": "39H0XTkghJ--",
        "outputId": "f83e97aa-19dc-4848-d6b7-4427bd88d58a"
      },
      "execution_count": 9,
      "outputs": [
        {
          "output_type": "stream",
          "name": "stdout",
          "text": [
            "\n",
            "✅ Teacher model's weights saved to teacher_cnn_lstm.pth\n",
            "You can now see this file in the Colab file explorer on the left.\n",
            "\n",
            "You now have the two files you need for the next phase:\n",
            "1. teacher_cnn_lstm.pth (The trained Teacher model)\n",
            "2. scaler.pkl (The scaler used to process the data)\n"
          ]
        }
      ]
    },
    {
      "cell_type": "code",
      "source": [
        "# --- 8. Define the Lightweight Student Model (MLP) ---\n",
        "\n",
        "class StudentModel(nn.Module):\n",
        "    def __init__(self, n_features):\n",
        "        super(StudentModel, self).__init__()\n",
        "\n",
        "        # A simple 3-layer network\n",
        "        self.fc1 = nn.Linear(n_features, 40) # 78 -> 40\n",
        "        self.relu1 = nn.ReLU()\n",
        "        self.fc2 = nn.Linear(40, 20)         # 40 -> 20\n",
        "        self.relu2 = nn.ReLU()\n",
        "        self.fc3 = nn.Linear(20, 1)          # 20 -> 1 (output)\n",
        "        self.sigmoid = nn.Sigmoid()\n",
        "\n",
        "    def forward(self, x):\n",
        "        # No reshaping needed for a simple MLP\n",
        "        x = self.fc1(x)\n",
        "        x = self.relu1(x)\n",
        "        x = self.fc2(x)\n",
        "        x = self.relu2(x)\n",
        "        x = self.fc3(x)\n",
        "        x = self.sigmoid(x)\n",
        "        return x\n",
        "\n",
        "print(\"StudentModel class defined.\")"
      ],
      "metadata": {
        "colab": {
          "base_uri": "https://localhost:8080/"
        },
        "id": "V8dLVRBbzRvZ",
        "outputId": "301d8e07-7506-4cf3-b717-b0567ed2590c"
      },
      "execution_count": 10,
      "outputs": [
        {
          "output_type": "stream",
          "name": "stdout",
          "text": [
            "StudentModel class defined.\n"
          ]
        }
      ]
    },
    {
      "cell_type": "code",
      "source": [
        "# --- 9. Define the Knowledge Distillation Loss Function ---\n",
        "\n",
        "class KnowledgeDistillationLoss(nn.Module):\n",
        "    def __init__(self, T, alpha):\n",
        "        super(KnowledgeDistillationLoss, self).__init__()\n",
        "        self.T = T\n",
        "        self.alpha = alpha\n",
        "        self.KLD_loss = nn.KLDivLoss(reduction='batchmean')\n",
        "        self.BCE_loss = nn.BCELoss()\n",
        "\n",
        "    def forward(self, student_outputs, teacher_outputs, labels):\n",
        "        # 1. Hard Loss (standard loss)\n",
        "        # Compare student's normal output to the true labels\n",
        "        loss_hard = self.BCE_loss(student_outputs, labels)\n",
        "\n",
        "        # 2. Soft Loss (distillation loss)\n",
        "        # Soften the outputs from both models using the Temperature\n",
        "        student_soft = F.log_softmax(student_outputs / self.T, dim=1)\n",
        "        teacher_soft = F.softmax(teacher_outputs / self.T, dim=1)\n",
        "\n",
        "        # Compare the softened outputs\n",
        "        # We multiply by T*T as per the original distillation paper\n",
        "        loss_soft = self.KLD_loss(student_soft, teacher_soft) * (self.T * self.T)\n",
        "\n",
        "        # 3. Combine the losses\n",
        "        # L_KD = (alpha * Hard_Loss) + ((1 - alpha) * Soft_Loss)\n",
        "        total_loss = (self.alpha * loss_hard) + ((1.0 - self.alpha) * loss_soft)\n",
        "\n",
        "        return total_loss\n",
        "\n",
        "print(\"KnowledgeDistillationLoss class defined.\")"
      ],
      "metadata": {
        "colab": {
          "base_uri": "https://localhost:8080/"
        },
        "id": "RqSzFH05ze1u",
        "outputId": "b790b3e5-b896-4ca6-e737-3cf03bc205b1"
      },
      "execution_count": 11,
      "outputs": [
        {
          "output_type": "stream",
          "name": "stdout",
          "text": [
            "KnowledgeDistillationLoss class defined.\n"
          ]
        }
      ]
    },
    {
      "cell_type": "code",
      "source": [
        "# --- 10. Load Teacher and Create Student ---\n",
        "\n",
        "# 1. Instantiate the Teacher model\n",
        "# (We need the class definition from before)\n",
        "teacher_model = TeacherModel(n_features=N_FEATURES).to(device)\n",
        "\n",
        "# 2. Load the saved weights\n",
        "teacher_model.load_state_dict(torch.load(\"teacher_cnn_lstm.pth\"))\n",
        "\n",
        "# 3. Set Teacher to \"evaluation mode\"\n",
        "# This is CRITICAL. It freezes the weights so it doesn't train.\n",
        "teacher_model.eval()\n",
        "\n",
        "# 4. Instantiate the Student model\n",
        "student_model = StudentModel(n_features=N_FEATURES).to(device)\n",
        "\n",
        "print(\"Teacher model loaded and frozen.\")\n",
        "print(\"Student model created.\")\n",
        "\n",
        "# --- Hyperparameters for Distillation ---\n",
        "# From your project plan\n",
        "T = 4.0      # Temperature\n",
        "alpha = 0.7  # Weight for hard loss\n",
        "\n",
        "# --- Loss and Optimizer for STUDENT ---\n",
        "criterion_kd = KnowledgeDistillationLoss(T=T, alpha=alpha)\n",
        "\n",
        "# CRITICAL: We only create an optimizer for the STUDENT's parameters.\n",
        "# The teacher's weights will not be changed.\n",
        "LEARNING_RATE_STUDENT = 0.001\n",
        "optimizer_student = optim.Adam(student_model.parameters(), lr=LEARNING_RATE_STUDENT)\n",
        "\n",
        "print(\"Distillation loss and student optimizer are ready.\")"
      ],
      "metadata": {
        "colab": {
          "base_uri": "https://localhost:8080/"
        },
        "id": "Yf0RB453zfn5",
        "outputId": "7141038c-6499-47a1-c84a-1d8bb7c1e36b"
      },
      "execution_count": 12,
      "outputs": [
        {
          "output_type": "stream",
          "name": "stdout",
          "text": [
            "Teacher model loaded and frozen.\n",
            "Student model created.\n",
            "Distillation loss and student optimizer are ready.\n"
          ]
        }
      ]
    },
    {
      "cell_type": "code",
      "source": [
        "# --- 11. Distillation Training Loop ---\n",
        "EPOCHS_STUDENT = 10 # Train for the same number of epochs\n",
        "\n",
        "print(\"Starting Knowledge Distillation training...\")\n",
        "\n",
        "for epoch in range(EPOCHS_STUDENT):\n",
        "    student_model.train()  # Put student in train mode\n",
        "    total_student_loss = 0\n",
        "\n",
        "    for inputs, labels in train_loader:\n",
        "        inputs, labels = inputs.to(device), labels.to(device)\n",
        "\n",
        "        # 1. Get Teacher's \"soft\" predictions\n",
        "        # We use torch.no_grad() because we don't need to\n",
        "        # calculate gradients for the teacher.\n",
        "        with torch.no_grad():\n",
        "            teacher_outputs = teacher_model(inputs)\n",
        "\n",
        "        # 2. Get Student's predictions\n",
        "        student_outputs = student_model(inputs)\n",
        "\n",
        "        # 3. Calculate the special distillation loss\n",
        "        loss = criterion_kd(student_outputs, teacher_outputs, labels)\n",
        "\n",
        "        # 4. Backward pass and optimization (for STUDENT only)\n",
        "        optimizer_student.zero_grad()\n",
        "        loss.backward()\n",
        "        optimizer_student.step()\n",
        "\n",
        "        total_student_loss += loss.item()\n",
        "\n",
        "    avg_student_loss = total_student_loss / len(train_loader)\n",
        "    print(f\"Epoch [{epoch+1}/{EPOCHS_STUDENT}], Student Loss: {avg_student_loss:.4f}\")\n",
        "\n",
        "print(\"Student training finished.\")"
      ],
      "metadata": {
        "colab": {
          "base_uri": "https://localhost:8080/"
        },
        "id": "BtGR9yLlzk-L",
        "outputId": "428f4d1c-89f2-4bf2-c571-eec1fc2ee3e7"
      },
      "execution_count": 13,
      "outputs": [
        {
          "output_type": "stream",
          "name": "stdout",
          "text": [
            "Starting Knowledge Distillation training...\n",
            "Epoch [1/10], Student Loss: 0.0376\n",
            "Epoch [2/10], Student Loss: 0.0113\n",
            "Epoch [3/10], Student Loss: 0.0083\n",
            "Epoch [4/10], Student Loss: 0.0062\n",
            "Epoch [5/10], Student Loss: 0.0047\n",
            "Epoch [6/10], Student Loss: 0.0037\n",
            "Epoch [7/10], Student Loss: 0.0031\n",
            "Epoch [8/10], Student Loss: 0.0028\n",
            "Epoch [9/10], Student Loss: 0.0024\n",
            "Epoch [10/10], Student Loss: 0.0023\n",
            "Student training finished.\n"
          ]
        }
      ]
    },
    {
      "cell_type": "code",
      "source": [
        "# --- 12. Evaluate the Lightweight Student Model ---\n",
        "\n",
        "student_model.eval()  # Set student to evaluation mode\n",
        "all_preds_student = []\n",
        "all_labels_student = []\n",
        "\n",
        "with torch.no_grad():\n",
        "    for inputs, labels in test_loader:\n",
        "        inputs, labels = inputs.to(device), labels.to(device)\n",
        "\n",
        "        # Get STUDENT'S predictions\n",
        "        outputs = student_model(inputs)\n",
        "\n",
        "        preds = (outputs > 0.5).float()\n",
        "\n",
        "        all_preds_student.extend(preds.cpu().numpy())\n",
        "        all_labels_student.extend(labels.cpu().numpy())\n",
        "\n",
        "# Calculate metrics\n",
        "accuracy_s = accuracy_score(all_labels_student, all_preds_student)\n",
        "precision_s = precision_score(all_labels_student, all_preds_student)\n",
        "recall_s = recall_score(all_labels_student, all_preds_student)\n",
        "f1_s = f1_score(all_labels_student, all_preds_student)\n",
        "\n",
        "print(\"\\n--- Lightweight MLP Student Model Evaluation Results ---\")\n",
        "print(f'Accuracy:  {accuracy_s:.4f}')\n",
        "print(f'Precision: {precision_s:.4f}')\n",
        "print(f'Recall:    {recall_s:.4f}')\n",
        "print(f'F1 Score:  {f1_s:.4f}')\n",
        "\n",
        "# Plot the confusion matrix\n",
        "plot_confusion_matrix(all_labels_student, all_preds_student, ['Benign', 'DDoS'], 'MLP Student Model Confusion Matrix')"
      ],
      "metadata": {
        "colab": {
          "base_uri": "https://localhost:8080/",
          "height": 668
        },
        "id": "C8JRKHKGzoOj",
        "outputId": "e177e5eb-a0f2-4c9a-d8db-5f6b24bbfd55"
      },
      "execution_count": 14,
      "outputs": [
        {
          "output_type": "stream",
          "name": "stdout",
          "text": [
            "\n",
            "--- Lightweight MLP Student Model Evaluation Results ---\n",
            "Accuracy:  0.9994\n",
            "Precision: 0.9999\n",
            "Recall:    0.9991\n",
            "F1 Score:  0.9995\n"
          ]
        },
        {
          "output_type": "display_data",
          "data": {
            "text/plain": [
              "<Figure size 800x600 with 2 Axes>"
            ],
            "image/png": "[encoded data removed]"
          },
          "metadata": {}
        }
      ]
    },
    {
      "cell_type": "code",
      "source": [
        "# --- 13. Save the Final Lightweight Student Model ---\n",
        "\n",
        "STUDENT_MODEL_PATH = \"student_mlp_model.pth\"\n",
        "torch.save(student_model.state_dict(), STUDENT_MODEL_PATH)\n",
        "\n",
        "print(f\"\\n✅ Lightweight Student model saved to {STUDENT_MODEL_PATH}\")"
      ],
      "metadata": {
        "colab": {
          "base_uri": "https://localhost:8080/"
        },
        "id": "Tjqfdi3lzsmu",
        "outputId": "d15646b3-4a79-4368-8716-c1b43af6c8d8"
      },
      "execution_count": 16,
      "outputs": [
        {
          "output_type": "stream",
          "name": "stdout",
          "text": [
            "\n",
            "✅ Lightweight Student model saved to student_mlp_model.pth\n"
          ]
        }
      ]
    },
    {
      "cell_type": "code",
      "source": [],
      "metadata": {
        "id": "ZGrere95zxwK"
      },
      "execution_count": null,
      "outputs": []
    }
  ]
}